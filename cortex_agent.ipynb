{
 "cells": [
  {
   "cell_type": "markdown",
   "metadata": {},
   "source": [
    "# Snowflake Cortex Agent"
   ]
  },
  {
   "cell_type": "code",
   "execution_count": null,
   "metadata": {},
   "outputs": [],
   "source": [
    "HOST = \"EQCNGGW-UUB67242.snowflakecomputing.com\"\n",
    "API_ENDPOINT = \"/api/v2/cortex/agent:run\"\n",
    "API_TIMEOUT = 50000  # in milliseconds\n",
    "\n",
    "CORTEX_SEARCH_SERVICES = \"DASH_DB.DASH_SCHEMA.VEHICLES_INFO\"\n",
    "SEMANTIC_MODELS_SUPPLY_CHAIN = \"@DASH_DB.DASH_SCHEMA.DASH_SEMANTIC_MODELS/supply_chain_semantic_model.yaml\"\n",
    "SEMANTIC_MODELS_SUPPORT_TICKETS = \"@DASH_DB.DASH_SCHEMA.DASH_SEMANTIC_MODELS/support_tickets_semantic_model.yaml\""
   ]
  },
  {
   "cell_type": "code",
   "execution_count": 116,
   "metadata": {},
   "outputs": [
    {
     "data": {
      "text/html": [
       "<div>\n",
       "<style scoped>\n",
       "    .dataframe tbody tr th:only-of-type {\n",
       "        vertical-align: middle;\n",
       "    }\n",
       "\n",
       "    .dataframe tbody tr th {\n",
       "        vertical-align: top;\n",
       "    }\n",
       "\n",
       "    .dataframe thead th {\n",
       "        text-align: right;\n",
       "    }\n",
       "</style>\n",
       "<table border=\"1\" class=\"dataframe\">\n",
       "  <thead>\n",
       "    <tr style=\"text-align: right;\">\n",
       "      <th></th>\n",
       "      <th>CURRENT_ACCOUNT()</th>\n",
       "      <th>CURRENT_ROLE()</th>\n",
       "      <th>CURRENT_USER()</th>\n",
       "    </tr>\n",
       "  </thead>\n",
       "  <tbody>\n",
       "    <tr>\n",
       "      <th>0</th>\n",
       "      <td>LRB49824</td>\n",
       "      <td>ACCOUNTADMIN</td>\n",
       "      <td>ANGELCORTEX2025</td>\n",
       "    </tr>\n",
       "  </tbody>\n",
       "</table>\n",
       "</div>"
      ],
      "text/plain": [
       "  CURRENT_ACCOUNT() CURRENT_ROLE()   CURRENT_USER()\n",
       "0          LRB49824   ACCOUNTADMIN  ANGELCORTEX2025"
      ]
     },
     "execution_count": 116,
     "metadata": {},
     "output_type": "execute_result"
    }
   ],
   "source": [
    "import snowflake.connector\n",
    "\n",
    "snow_conn = snowflake.connector.connect(\n",
    "    user=\"ANGELCORTEX2025\",\n",
    "    password=\"angelrehCortex1997\",\n",
    "    account=\"EQCNGGW\",\n",
    "    host=HOST,\n",
    "    port=443,\n",
    "    warehouse=\"COMPUTE_WH\",\n",
    "    role=\"ACCOUNTADMIN\",\n",
    ")\n",
    "\n",
    "\n",
    "with snow_conn.cursor() as cur:\n",
    "    df = cur.execute(\"SELECT CURRENT_ACCOUNT(), CURRENT_ROLE(), CURRENT_USER()\").fetch_pandas_all()\n",
    "\n",
    "df"
   ]
  },
  {
   "cell_type": "code",
   "execution_count": null,
   "metadata": {},
   "outputs": [],
   "source": [
    "import requests\n",
    "import json\n",
    "\n",
    "def send_question(question, limit=10):\n",
    "    payload = {\n",
    "        \"model\": \"llama3.1-70b\",\n",
    "        \"messages\": [\n",
    "            {\n",
    "                \"role\": \"user\",\n",
    "                \"content\": [\n",
    "                    {\n",
    "                        \"type\": \"text\",\n",
    "                        \"text\": question\n",
    "                    }\n",
    "                ]\n",
    "            }\n",
    "        ],\n",
    "        \"tools\": [\n",
    "            { \"tool_spec\": { \"type\": \"cortex_analyst_text_to_sql\", \"name\": \"supply_chain\" } },\n",
    "            { \"tool_spec\": { \"type\": \"cortex_analyst_text_to_sql\", \"name\": \"support\" } },\n",
    "            { \"tool_spec\": { \"type\": \"cortex_search\", \"name\": \"vehicles_info_search\" } }\n",
    "        ],\n",
    "        \"tool_resources\": {\n",
    "            \"supply_chain\": {\"semantic_model_file\": SEMANTIC_MODELS_SUPPLY_CHAIN},\n",
    "            \"support\": {\"semantic_model_file\": SEMANTIC_MODELS_SUPPORT_TICKETS},\n",
    "            \"vehicles_info_search\": {\n",
    "                \"name\": CORTEX_SEARCH_SERVICES,\n",
    "                \"max_results\": limit,\n",
    "                \"title_column\": \"title\",\n",
    "                \"id_column\": \"relative_path\"\n",
    "            }\n",
    "        }\n",
    "    }\n",
    "\n",
    "    response = requests.post(\n",
    "        url=f\"https://{HOST}/{API_ENDPOINT}\",\n",
    "        json=payload,\n",
    "        headers={\n",
    "            \"Authorization\": f'Snowflake Token=\"{snow_conn.rest.token}\"',\n",
    "            \"Content-Type\": \"application/json\",\n",
    "            \"Accept\": \"application/json\",\n",
    "        },\n",
    "        stream=True\n",
    "    )\n",
    "    return response\n",
    "\n",
    "def parse_response_to_events(response):\n",
    "    \"\"\"Parse raw SSE response into a list of events\"\"\"\n",
    "    events = []\n",
    "        \n",
    "    for line in response.iter_lines():\n",
    "        if line:\n",
    "            decoded = line.decode('utf-8')\n",
    "            \n",
    "            if decoded.startswith(\"data: \"):\n",
    "                content = decoded.replace(\"data: \", \"\")\n",
    "                if content == \"[DONE]\":\n",
    "                    break\n",
    "\n",
    "                parsed = json.loads(content)\n",
    "                events.append(parsed)\n",
    "\n",
    "    return events\n",
    "\n",
    "def process_sse_response(response):\n",
    "    \"\"\"Process SSE response\"\"\"\n",
    "    text = \"\"\n",
    "    sql = \"\"\n",
    "    citations = []\n",
    "    \n",
    "    if not response:\n",
    "        return text, sql, citations\n",
    "    if isinstance(response, str):\n",
    "        return text, sql, citations\n",
    "    try:\n",
    "        for event in response:\n",
    "            if event.get('object') == \"message.delta\":\n",
    "                delta = event.get('delta', {})\n",
    "                \n",
    "                for content_item in delta.get('content', []):\n",
    "                    content_type = content_item.get('type')\n",
    "                    if content_type == \"tool_results\":\n",
    "                        tool_results = content_item.get('tool_results', {})\n",
    "                        if 'content' in tool_results:\n",
    "                            for result in tool_results['content']:\n",
    "                                if result.get('type') == 'json':\n",
    "                                    text += result.get('json', {}).get('text', '')\n",
    "                                    search_results = result.get('json', {}).get('searchResults', [])\n",
    "                                    for search_result in search_results:\n",
    "                                        citations.append({'source_id':search_result.get('source_id',''), 'doc_id':search_result.get('doc_id', ''), 'text':search_result.get('text', '')})\n",
    "                                    sql = result.get('json', {}).get('sql', '')\n",
    "                    if content_type == 'text':\n",
    "                        text += content_item.get('text', '')\n",
    "                            \n",
    "    except json.JSONDecodeError as e:\n",
    "        print(f\"Error processing events: {str(e)}\")\n",
    "                \n",
    "    except Exception as e:\n",
    "        print(f\"Error processing events: {str(e)}\")\n",
    "        \n",
    "    return text, sql, citations"
   ]
  },
  {
   "cell_type": "code",
   "execution_count": 118,
   "metadata": {},
   "outputs": [
    {
     "name": "stdout",
     "output_type": "stream",
     "text": [
      "{'id': 'msg_001', 'object': 'message.delta', 'delta': {'content': [{'index': 0, 'type': 'text', 'text': ''}]}}\n",
      "{'id': 'msg_001', 'object': 'message.delta', 'delta': {'content': [{'index': 0, 'type': 'text', 'text': ''}]}}\n",
      "{'id': 'msg_001', 'object': 'message.delta', 'delta': {'content': [{'index': 0, 'type': 'text', 'text': 'H'}]}}\n",
      "{'id': 'msg_001', 'object': 'message.delta', 'delta': {'content': [{'index': 0, 'type': 'text', 'text': 'ello'}]}}\n",
      "{'id': 'msg_001', 'object': 'message.delta', 'delta': {'content': [{'index': 0, 'type': 'text', 'text': '! '}]}}\n",
      "{'id': 'msg_001', 'object': 'message.delta', 'delta': {'content': [{'index': 0, 'type': 'text', 'text': 'How can'}]}}\n",
      "{'id': 'msg_001', 'object': 'message.delta', 'delta': {'content': [{'index': 0, 'type': 'text', 'text': ' I a'}]}}\n",
      "{'id': 'msg_001', 'object': 'message.delta', 'delta': {'content': [{'index': 0, 'type': 'text', 'text': 'ssist '}]}}\n",
      "{'id': 'msg_001', 'object': 'message.delta', 'delta': {'content': [{'index': 0, 'type': 'text', 'text': 'y'}]}}\n",
      "{'id': 'msg_001', 'object': 'message.delta', 'delta': {'content': [{'index': 0, 'type': 'text', 'text': 'ou today?'}]}}\n"
     ]
    }
   ],
   "source": [
    "response = send_question(\"Hi\", limit=3)\n",
    "# Parse SSE (Server Sent Events) response\n",
    "events = parse_response_to_events(response)\n",
    "\n",
    "for event in events:\n",
    "    print(event)"
   ]
  },
  {
   "cell_type": "code",
   "execution_count": 119,
   "metadata": {},
   "outputs": [
    {
     "name": "stdout",
     "output_type": "stream",
     "text": [
      "Text: Hello! How can I assist you today?\n",
      "SQL: \n",
      "Citations:\n"
     ]
    }
   ],
   "source": [
    "# Pass the parsed events to the process_sse_response function | SSE (Server Sent Events)\n",
    "text, sql, citations = process_sse_response(events)\n",
    "\n",
    "# Print the results\n",
    "print(\"Text:\", text)\n",
    "print(\"SQL:\", sql)\n",
    "print(\"Citations:\")\n",
    "\n",
    "for citation in citations:\n",
    "    print(citation)"
   ]
  },
  {
   "cell_type": "markdown",
   "metadata": {},
   "source": [
    "## Structured Data – Support Tickets Semantic Model\n",
    "\n",
    "1. Can you show me a breakdown of customer support tickets by service type cellular vs business internet?\n",
    "\n",
    "2. How many unique customers have raised a support ticket with a 'Cellular' service type and have 'Email' as their contact preference?"
   ]
  },
  {
   "cell_type": "code",
   "execution_count": null,
   "metadata": {},
   "outputs": [
    {
     "name": "stdout",
     "output_type": "stream",
     "text": [
      "Text: According to Snowtires Automotive's recycling policy, tires with over 60% rubber content are processed to reclaim up to 80% of the rubber for reuse in new tires and other products, which significantly reduces waste and reliance on virgin rubber 【†1†】.\n",
      "SQL: \n",
      "Citations:\n",
      "1. {'source_id': 1.0, 'doc_id': 'Snowtires_Automotive_ESG_Recycling_Policy_Full.pdf', 'text': '## Recycling Policy Overview\\nAs part of our commitment to sustainability, Snowtires Automotive has developed robust recycling policies. Our tire recycling programs aim to recover materials, minimizing environmental impact and reducing the need for virgin resources.\\n# Recycling Specifications\\n\\n## High Rubber Content Tires\\nTires with over 60% rubber content are processed to reclaim up to 80% of the rubber for reuse in new tires and other products. This significantly reduces waste and reliance on virgin rubber.\\n## High Carbon Black Content Tires\\nTires with over 30% carbon black content are processed to recover 70% of the carbon black. This reduces carbon emissions associated with new carbon black production.\\n## Regulatory Compliance\\nSnowtires Automotive complies with all regional, national, and international environmental regulations. We work closely with regulatory bodies to ensure that our recycling practices meet the highest standards and contribute to broader environmental protection goals.\\n## Future Goals and Partnerships\\nIn the future, we aim to increase the recovery rate of recyclable materials, improve our tire recycling processes, and reduce the energy required for tire production. We are actively seeking partnerships with innovation-driven organizations that can help us advance our goals.By 2025, we aim to partner with other key stakeholders in the automotive industry to promote the use of recycled materials and implement advanced recycling technologies  \\nCommunity ImpactSnowtires Automotive believes in giving back to the community. Through our ESG initiatives, we provide funding for local environmental projects, education, and sustainability-focused training. In the last year alone, we donated over $500,000 to community outreach programs.'}\n"
     ]
    }
   ],
   "source": [
    "# response = send_question(\"How many unique customers have raised a support ticket with a 'Cellular' service type and have 'Email' as their contact preference\")\n",
    "# response = send_question(\"Can you show me a breakdown of customer support tickets by service type cellular vs business internet?\")\n",
    "# response = send_question(\"What are the payment terms for Snowtires?\")\n",
    "response = send_question(\"What's the latest, most effective way to recycle rubber tires?\", limit=1)\n",
    "events = parse_response_to_events(response)\n",
    "text, sql, citations = process_sse_response(events)\n",
    "\n",
    "print(\"Text:\", text)\n",
    "print(\"SQL:\", sql)\n",
    "print(\"Citations:\")\n",
    "\n",
    "for i, citation in enumerate(citations, start=1):\n",
    "    print(f\"{i}. {citation}\")\n"
   ]
  },
  {
   "cell_type": "code",
   "execution_count": 121,
   "metadata": {},
   "outputs": [
    {
     "data": {
      "text/html": [
       "<div>\n",
       "<style scoped>\n",
       "    .dataframe tbody tr th:only-of-type {\n",
       "        vertical-align: middle;\n",
       "    }\n",
       "\n",
       "    .dataframe tbody tr th {\n",
       "        vertical-align: top;\n",
       "    }\n",
       "\n",
       "    .dataframe thead th {\n",
       "        text-align: right;\n",
       "    }\n",
       "</style>\n",
       "<table border=\"1\" class=\"dataframe\">\n",
       "  <thead>\n",
       "    <tr style=\"text-align: right;\">\n",
       "      <th></th>\n",
       "      <th>SERVICE_TYPE</th>\n",
       "      <th>TICKET_COUNT</th>\n",
       "    </tr>\n",
       "  </thead>\n",
       "  <tbody>\n",
       "    <tr>\n",
       "      <th>0</th>\n",
       "      <td>Cellular</td>\n",
       "      <td>114</td>\n",
       "    </tr>\n",
       "    <tr>\n",
       "      <th>1</th>\n",
       "      <td>Business Internet</td>\n",
       "      <td>35</td>\n",
       "    </tr>\n",
       "  </tbody>\n",
       "</table>\n",
       "</div>"
      ],
      "text/plain": [
       "        SERVICE_TYPE  TICKET_COUNT\n",
       "0           Cellular           114\n",
       "1  Business Internet            35"
      ]
     },
     "execution_count": 121,
     "metadata": {},
     "output_type": "execute_result"
    }
   ],
   "source": [
    "with snow_conn.cursor() as cur:\n",
    "    cur.execute(sql)\n",
    "    df = cur.fetch_pandas_all()\n",
    "df"
   ]
  }
 ],
 "metadata": {
  "kernelspec": {
   "display_name": "venv",
   "language": "python",
   "name": "python3"
  },
  "language_info": {
   "codemirror_mode": {
    "name": "ipython",
    "version": 3
   },
   "file_extension": ".py",
   "mimetype": "text/x-python",
   "name": "python",
   "nbconvert_exporter": "python",
   "pygments_lexer": "ipython3",
   "version": "3.10.12"
  }
 },
 "nbformat": 4,
 "nbformat_minor": 2
}
